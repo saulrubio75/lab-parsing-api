{
  "cells": [
    {
      "cell_type": "markdown",
      "metadata": {
        "id": "8rrEuulAr9xw"
      },
      "source": [
        "# Challenge: Rick and Morty API\n",
        "\n",
        "![](http://as01.epimg.net/epik/imagenes/2019/02/12/portada/1549970850_227267_1549973816_noticia_normal.jpg)\n",
        "\n",
        "\n",
        "**In this challenge, you'll develop codes to parse and analyze data returned from the [Rick and Morty API](https://rickandmortyapi.com/).** The workflow is almost the same as in the guided lesson but you'll work with different data."
      ]
    },
    {
      "cell_type": "markdown",
      "metadata": {
        "id": "p2w0IBvWr9xx"
      },
      "source": [
        "## Obtaining the link\n",
        "\n",
        "Wrote your codes in the cell below to obtain the data from the API endpoint you choose. A recap of the workflow:\n",
        "\n",
        "1. Examine the webpages and choose one that you want to work with.\n",
        "\n",
        "1. Use Google Chrome's DevTools to inspect the XHR network requests. Find out the API endpoint that serves data to the webpage.\n",
        "\n",
        "1. Test the API endpoint in the browser to verify its data.\n",
        "\n",
        "1. Change the page number offset of the API URL to test if it's working."
      ]
    },
    {
      "cell_type": "code",
      "execution_count": 1,
      "metadata": {
        "id": "liz-oC_Xr9xy",
        "outputId": "75cf13bf-3822-45af-cdb3-d44a2bb855d5",
        "colab": {
          "base_uri": "https://localhost:8080/"
        }
      },
      "outputs": [
        {
          "output_type": "stream",
          "name": "stdout",
          "text": [
            "200\n"
          ]
        },
        {
          "output_type": "execute_result",
          "data": {
            "text/plain": [
              "{'id': 678,\n",
              " 'name': \"Japheth's Youngest Son\",\n",
              " 'status': 'Dead',\n",
              " 'species': 'Humanoid',\n",
              " 'type': 'Narnian',\n",
              " 'gender': 'Male',\n",
              " 'origin': {'name': 'Narnia Dimension',\n",
              "  'url': 'https://rickandmortyapi.com/api/location/110'},\n",
              " 'location': {'name': 'Narnia Dimension',\n",
              "  'url': 'https://rickandmortyapi.com/api/location/110'},\n",
              " 'image': 'https://rickandmortyapi.com/api/character/avatar/678.jpeg',\n",
              " 'episode': ['https://rickandmortyapi.com/api/episode/42'],\n",
              " 'url': 'https://rickandmortyapi.com/api/character/678',\n",
              " 'created': '2021-10-16T12:53:46.114Z'}"
            ]
          },
          "metadata": {},
          "execution_count": 1
        }
      ],
      "source": [
        "# your code here\n",
        "import requests\n",
        "import time  \n",
        "import pandas as pd \n",
        "\n",
        "url = 'https://rickandmortyapi.com/api/character/678' \n",
        "res = requests.get(url) \n",
        "\n",
        "print(res.status_code) \n",
        "res.json()"
      ]
    },
    {
      "cell_type": "markdown",
      "metadata": {
        "id": "Xsu9SSifr9xz"
      },
      "source": [
        "## Reading the data\n",
        "\n",
        "In the next cell, use Python to obtain data from the API endpoint you chose in the previous step. Workflow:\n",
        "\n",
        "1. Import libraries.\n",
        "\n",
        "1. Define the initial API endpoint URL.\n",
        "\n",
        "1. Make request to obtain data of the 1st page. Flatten the data and store it in an empty object variable.\n",
        "\n",
        "1. Find out the total page count in the 1st page data.\n",
        "\n",
        "1. Use a FOR loop to make requests for the additional pages from 2 to page count. Append the data of each additional page to the flatterned data object.\n",
        "\n",
        "1. Print and review the data you obtained."
      ]
    },
    {
      "cell_type": "code",
      "execution_count": 2,
      "metadata": {
        "id": "2VKhu-YPr9xz"
      },
      "outputs": [],
      "source": [
        "# your code here \n",
        "\n",
        "import requests\n",
        "import time \n",
        "import pandas as pd \n",
        "\n",
        "url = 'https://rickandmortyapi.com/api/character/?page=%s'\n",
        "res = requests.get(url%1)\n",
        "\n",
        "\n",
        "\n",
        "res_json = res.json()\n",
        "page_results = [data for data in res_json['results']]\n",
        "\n",
        "for page in range(2,43):\n",
        "    res = requests.get(url%page)\n",
        "    res_json = res.json()['results']\n",
        "    for num_chars in res_json:\n",
        "        page_results.append(num_chars)\n",
        "    \n",
        "\n"
      ]
    },
    {
      "cell_type": "markdown",
      "metadata": {
        "id": "bmAQNy_5r9x0"
      },
      "source": [
        "## Bonus\n",
        "\n",
        "Extract the following information from the data:\n",
        "\n",
        "* The character who appeared in most episodes (aside from Rick and Morty, of course!).\n",
        "\n",
        "* The total number of dead characters.\n",
        "\n",
        "* A list of all character origins (without duplicates)."
      ]
    },
    {
      "cell_type": "code",
      "execution_count": 4,
      "metadata": {
        "id": "AqflUYurr9x0",
        "outputId": "1b8a3f8a-5419-4e9c-885e-02e98a7f5e2f",
        "colab": {
          "base_uri": "https://localhost:8080/",
          "height": 240
        }
      },
      "outputs": [
        {
          "output_type": "error",
          "ename": "TypeError",
          "evalue": "ignored",
          "traceback": [
            "\u001b[0;31m---------------------------------------------------------------------------\u001b[0m",
            "\u001b[0;31mTypeError\u001b[0m                                 Traceback (most recent call last)",
            "\u001b[0;32m<ipython-input-4-c99cdac10914>\u001b[0m in \u001b[0;36m<module>\u001b[0;34m\u001b[0m\n\u001b[1;32m      1\u001b[0m \u001b[0;31m# your code here\u001b[0m\u001b[0;34m\u001b[0m\u001b[0;34m\u001b[0m\u001b[0;34m\u001b[0m\u001b[0m\n\u001b[1;32m      2\u001b[0m \u001b[0mcharacters_in_episodes\u001b[0m \u001b[0;34m=\u001b[0m \u001b[0mlist\u001b[0m\u001b[0;34m(\u001b[0m\u001b[0mfilter\u001b[0m\u001b[0;34m(\u001b[0m\u001b[0;32mlambda\u001b[0m \u001b[0mcharacter\u001b[0m\u001b[0;34m:\u001b[0m \u001b[0mcharacter\u001b[0m\u001b[0;34m[\u001b[0m\u001b[0;34m'name'\u001b[0m\u001b[0;34m]\u001b[0m \u001b[0;34m!=\u001b[0m \u001b[0;34m\"Rick Sanchez\"\u001b[0m \u001b[0;32mand\u001b[0m \u001b[0mcharacter\u001b[0m\u001b[0;34m[\u001b[0m\u001b[0;34m\"name\"\u001b[0m\u001b[0;34m]\u001b[0m\u001b[0;34m!=\u001b[0m\u001b[0;34m\"Morty Smith\"\u001b[0m\u001b[0;34m,\u001b[0m \u001b[0mpage_results\u001b[0m\u001b[0;34m)\u001b[0m\u001b[0;34m)\u001b[0m\u001b[0;34m\u001b[0m\u001b[0;34m\u001b[0m\u001b[0m\n\u001b[0;32m----> 3\u001b[0;31m \u001b[0mcharacters_in_episodes\u001b[0m\u001b[0;34m[\u001b[0m\u001b[0;34m\"episode\"\u001b[0m\u001b[0;34m]\u001b[0m\u001b[0;34m\u001b[0m\u001b[0;34m\u001b[0m\u001b[0m\n\u001b[0m\u001b[1;32m      4\u001b[0m \u001b[0;34m\u001b[0m\u001b[0m\n\u001b[1;32m      5\u001b[0m \u001b[0mdead_characters\u001b[0m \u001b[0;34m=\u001b[0m \u001b[0mlen\u001b[0m\u001b[0;34m(\u001b[0m\u001b[0mlist\u001b[0m\u001b[0;34m(\u001b[0m\u001b[0mfilter\u001b[0m\u001b[0;34m(\u001b[0m\u001b[0;32mlambda\u001b[0m \u001b[0mcharacter\u001b[0m\u001b[0;34m:\u001b[0m \u001b[0mcharacter\u001b[0m\u001b[0;34m[\u001b[0m\u001b[0;34m\"status\"\u001b[0m\u001b[0;34m]\u001b[0m \u001b[0;34m==\u001b[0m \u001b[0;34m\"Dead\"\u001b[0m\u001b[0;34m,\u001b[0m \u001b[0mpage_results\u001b[0m \u001b[0;34m)\u001b[0m\u001b[0;34m)\u001b[0m\u001b[0;34m)\u001b[0m\u001b[0;34m\u001b[0m\u001b[0;34m\u001b[0m\u001b[0m\n",
            "\u001b[0;31mTypeError\u001b[0m: list indices must be integers or slices, not str"
          ]
        }
      ],
      "source": [
        "# your code here \n"
      ]
    }
  ],
  "metadata": {
    "kernelspec": {
      "display_name": "Python 3",
      "language": "python",
      "name": "python3"
    },
    "language_info": {
      "codemirror_mode": {
        "name": "ipython",
        "version": 3
      },
      "file_extension": ".py",
      "mimetype": "text/x-python",
      "name": "python",
      "nbconvert_exporter": "python",
      "pygments_lexer": "ipython3",
      "version": "3.7.3"
    },
    "colab": {
      "provenance": []
    }
  },
  "nbformat": 4,
  "nbformat_minor": 0
}